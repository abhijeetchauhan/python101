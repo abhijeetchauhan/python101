{
 "cells": [
  {
   "cell_type": "markdown",
   "metadata": {
    "slideshow": {
     "slide_type": "slide"
    }
   },
   "source": [
    "# If Statements"
   ]
  },
  {
   "cell_type": "markdown",
   "metadata": {
    "slideshow": {
     "slide_type": "slide"
    }
   },
   "source": [
    "## Simple Case: If-Else statement"
   ]
  },
  {
   "cell_type": "markdown",
   "metadata": {
    "slideshow": {
     "slide_type": "fragment"
    }
   },
   "source": [
    "If-Else statement can either be true or false based on the boolean condition.<br>\n",
    "If-Else statement is used when we have to make a choice.<br>\n",
    "<img src=\"files/if_else.jpg\">"
   ]
  },
  {
   "cell_type": "markdown",
   "metadata": {
    "slideshow": {
     "slide_type": "fragment"
    }
   },
   "source": [
    "### Syntax\n",
    "```python\n",
    "if(boolean condition):\n",
    "    if-block\n",
    "#optional\n",
    "else:\n",
    "    else-block\n",
    "```"
   ]
  },
  {
   "cell_type": "markdown",
   "metadata": {
    "slideshow": {
     "slide_type": "subslide"
    }
   },
   "source": [
    "### In the following program we will check if a student pass or fail the subject."
   ]
  },
  {
   "cell_type": "code",
   "execution_count": 3,
   "metadata": {
    "collapsed": false,
    "slideshow": {
     "slide_type": "fragment"
    }
   },
   "outputs": [
    {
     "name": "stdout",
     "output_type": "stream",
     "text": [
      "Enter marks: 50\n",
      "Student passed the subject\n"
     ]
    }
   ],
   "source": [
    "# Passing marks:50\n",
    "marks=input('Enter marks: ')\n",
    "if(marks>=50):\n",
    "    print (\"Student passed the subject\")\n",
    "else:\n",
    "    print (\"Student failed the subject\")"
   ]
  },
  {
   "cell_type": "markdown",
   "metadata": {
    "slideshow": {
     "slide_type": "slide"
    }
   },
   "source": [
    "## If-Elif-Else statement"
   ]
  },
  {
   "cell_type": "markdown",
   "metadata": {
    "slideshow": {
     "slide_type": "fragment"
    }
   },
   "source": [
    "The elif statement allows you to check multiple expressions for *TRUE* and execute a block of code as soon as one of the conditions evaluates to *TRUE*.<br>\n",
    "<img src=\"files/if_elif_else.jpg\">\n"
   ]
  },
  {
   "cell_type": "markdown",
   "metadata": {
    "slideshow": {
     "slide_type": "fragment"
    }
   },
   "source": [
    "### Syntax\n",
    "```python\n",
    "if(boolean condition):\n",
    "    if-block\n",
    "# zero or more\n",
    "elif(boolean condition):\n",
    "    elif-block\n",
    "# optional\n",
    "else:\n",
    "    else-block\n",
    "```"
   ]
  },
  {
   "cell_type": "markdown",
   "metadata": {
    "slideshow": {
     "slide_type": "subslide"
    }
   },
   "source": [
    "### Now we want to figure out the grade of the student."
   ]
  },
  {
   "cell_type": "code",
   "execution_count": 2,
   "metadata": {
    "collapsed": false,
    "slideshow": {
     "slide_type": "fragment"
    }
   },
   "outputs": [
    {
     "name": "stdout",
     "output_type": "stream",
     "text": [
      "Enter marks: 83\n",
      "Grade B\n"
     ]
    }
   ],
   "source": [
    "#Grade A:[90,100) marks\n",
    "#Grade B:[75,90) marks\n",
    "#Grade C:[50,75) marks\n",
    "#Grade F:[0,50) marks\n",
    "marks=input('Enter marks: ')\n",
    "if(marks>=90):\n",
    "    print (\"Grade A\")\n",
    "elif(marks>=75):\n",
    "    print (\"Grade B\")\n",
    "elif(marks>=50):\n",
    "    print (\"Grade C\")\n",
    "else:  \n",
    "    print (\"Grade F\")"
   ]
  },
  {
   "cell_type": "markdown",
   "metadata": {
    "slideshow": {
     "slide_type": "slide"
    }
   },
   "source": [
    "## Assignment 1"
   ]
  },
  {
   "cell_type": "markdown",
   "metadata": {
    "slideshow": {
     "slide_type": "fragment"
    }
   },
   "source": [
    "### Write a program that will input students theory and practical marks and print out whether they pass in theory and practical.In the end print out whether the student passed overall."
   ]
  },
  {
   "cell_type": "code",
   "execution_count": null,
   "metadata": {
    "collapsed": false,
    "slideshow": {
     "slide_type": "fragment"
    }
   },
   "outputs": [],
   "source": [
    "# Passing marks:\n",
    "#    1. Theory: 50/100 \n",
    "#    2. Practical: 65/100\n",
    "#    3. Overall: 140/200\n",
    "TheoryMarks=input('Enter Theory Marks: ')\n",
    "PracticalMarks=input('Enter Practical Marks: ')\n",
    "# TEST CASE:\n",
    "# Input:\n",
    "# TheoryMarks=60\n",
    "# PracticalMarks=80\n",
    "# Output:\n",
    "# Passed in Theory\n",
    "# Passed in Practical\n",
    "# Passed Overall\n",
    "\n",
    "# your code here"
   ]
  },
  {
   "cell_type": "markdown",
   "metadata": {
    "slideshow": {
     "slide_type": "slide"
    }
   },
   "source": [
    "# Loops"
   ]
  },
  {
   "cell_type": "markdown",
   "metadata": {
    "slideshow": {
     "slide_type": "subslide"
    }
   },
   "source": [
    "A loop is a common programming technique that allows us to **repeat** a specific instruction (or set of instructions) any number of times.<br>\n",
    "You have 0 apples. How would you give yourself 4 apples?"
   ]
  },
  {
   "cell_type": "markdown",
   "metadata": {
    "slideshow": {
     "slide_type": "fragment"
    }
   },
   "source": [
    "<img src=\"files/loop.jpg\">"
   ]
  },
  {
   "cell_type": "code",
   "execution_count": 2,
   "metadata": {
    "collapsed": false,
    "slideshow": {
     "slide_type": "skip"
    }
   },
   "outputs": [
    {
     "name": "stdout",
     "output_type": "stream",
     "text": [
      "/home/abhijeet/.ipython/profile_default\n"
     ]
    }
   ],
   "source": [
    "profile_dir = get_ipython().profile_dir.location\n",
    "print (profile_dir)"
   ]
  },
  {
   "cell_type": "code",
   "execution_count": 7,
   "metadata": {
    "collapsed": false,
    "slideshow": {
     "slide_type": "skip"
    }
   },
   "outputs": [
    {
     "name": "stdout",
     "output_type": "stream",
     "text": [
      "Cloning into '/home/abhijeet/.ipython/profile_default/static/custom'...\n",
      "remote: Counting objects: 4869, done.\u001b[K\n",
      "remote: Compressing objects: 100% (15/15), done.\u001b[K\n",
      "remote: Total 4869 (delta 6), reused 0 (delta 0), pack-reused 4854\u001b[K\n",
      "Receiving objects: 100% (4869/4869), 16.83 MiB | 40.00 KiB/s, done.\n",
      "Resolving deltas: 100% (2860/2860), done.\n",
      "Checking connectivity... done.\n"
     ]
    }
   ],
   "source": [
    "import os\n",
    "tgt = os.path.join( profile_dir, 'static', 'custom')\n",
    "!git clone https://github.com/ipython-contrib/IPython-notebook-extensions.git $tgt"
   ]
  },
  {
   "cell_type": "code",
   "execution_count": 9,
   "metadata": {
    "collapsed": false,
    "slideshow": {
     "slide_type": "skip"
    }
   },
   "outputs": [
    {
     "name": "stdout",
     "output_type": "stream",
     "text": [
      "/home/abhijeet/.ipython/profile_default/static/custom\n",
      "configure_nbextensions.py  install.py\t README.md\t   templates\r\n",
      "COPYING.rst\t\t   meta.yaml\t requirements.txt  tests\r\n",
      "extensions\t\t   nbextensions  setup.py\r\n"
     ]
    }
   ],
   "source": [
    "%cd $tgt\n",
    "!ls"
   ]
  },
  {
   "cell_type": "code",
   "execution_count": 10,
   "metadata": {
    "collapsed": false,
    "slideshow": {
     "slide_type": "skip"
    }
   },
   "outputs": [
    {
     "name": "stdout",
     "output_type": "stream",
     "text": [
      "Writing custom.js\n"
     ]
    }
   ],
   "source": [
    "%%writefile custom.js\n",
    "// we want strict javascript that fails\n",
    "// on ambiguous syntax\n",
    "\"using strict\";\n",
    "\n",
    "// do not use notebook loaded  event as it is re-triggerd on\n",
    "// revert to checkpoint but this allow extesnsion to be loaded\n",
    "// late enough to work.\n",
    "//\n",
    "\n",
    "$([IPython.events]).on('app_initialized.NotebookApp', function(){\n",
    "\n",
    "\n",
    "    /**  Use path to js file relative to /static/ dir without leading slash, or\n",
    "     *  js extension.\n",
    "     *  Link directly to file is js extension.\n",
    "     *\n",
    "     *  first argument of require is a **list** that can contains several modules if needed.\n",
    "     **/\n",
    "\n",
    "    // require(['custom/noscroll']);\n",
    "    // require(['custom/clean_start'])\n",
    "    // require(['custom/toggle_all_line_number'])\n",
    "    // require(['custom/gist_it']);\n",
    "\n",
    "    /**\n",
    "     *  Link to entrypoint if extesnsion is a folder.\n",
    "     *  to be consistent with commonjs module, the entrypoint is main.js\n",
    "     *  here youcan also trigger a custom function on load that will do extra\n",
    "     *  action with the module if needed\n",
    "     **/\n",
    "     require(['custom/slidemode/main'],function(slidemode){\n",
    "    //     // do stuff\n",
    "     })\n",
    "\n",
    "});"
   ]
  },
  {
   "cell_type": "code",
   "execution_count": null,
   "metadata": {
    "collapsed": true
   },
   "outputs": [],
   "source": []
  }
 ],
 "metadata": {
  "celltoolbar": "Slideshow",
  "kernelspec": {
   "display_name": "Python 3",
   "language": "python",
   "name": "python3"
  },
  "language_info": {
   "codemirror_mode": {
    "name": "ipython",
    "version": 3
   },
   "file_extension": ".py",
   "mimetype": "text/x-python",
   "name": "python",
   "nbconvert_exporter": "python",
   "pygments_lexer": "ipython3",
   "version": "3.4.3"
  }
 },
 "nbformat": 4,
 "nbformat_minor": 0
}
