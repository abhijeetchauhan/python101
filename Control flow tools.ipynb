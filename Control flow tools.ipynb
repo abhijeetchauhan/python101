{
 "cells": [
  {
   "cell_type": "markdown",
   "metadata": {
    "slideshow": {
     "slide_type": "slide"
    }
   },
   "source": [
    "# If Statements"
   ]
  },
  {
   "cell_type": "markdown",
   "metadata": {
    "slideshow": {
     "slide_type": "slide"
    }
   },
   "source": [
    "## Simple Case: If-Else statement"
   ]
  },
  {
   "cell_type": "markdown",
   "metadata": {
    "slideshow": {
     "slide_type": "fragment"
    }
   },
   "source": [
    "If-Else statement can either be true or false based on the boolean condition.<br>\n",
    "If-Else statement is used when we have to make a choice.<br>\n",
    "<img src=\"files/if_else.jpg\">"
   ]
  },
  {
   "cell_type": "markdown",
   "metadata": {
    "slideshow": {
     "slide_type": "fragment"
    }
   },
   "source": [
    "### Syntax\n",
    "```python\n",
    "if(boolean condition):\n",
    "    if-block\n",
    "#optional\n",
    "else:\n",
    "    else-block\n",
    "```"
   ]
  },
  {
   "cell_type": "markdown",
   "metadata": {
    "slideshow": {
     "slide_type": "subslide"
    }
   },
   "source": [
    "### In the following program we will check if a student pass or fail the subject."
   ]
  },
  {
   "cell_type": "code",
   "execution_count": 8,
   "metadata": {
    "collapsed": false,
    "slideshow": {
     "slide_type": "fragment"
    }
   },
   "outputs": [
    {
     "name": "stdout",
     "output_type": "stream",
     "text": [
      "Enter marks: 50\n",
      "Student passed the subject\n"
     ]
    }
   ],
   "source": [
    "# Passing marks:50\n",
    "marks=int(input('Enter marks: '))\n",
    "if(marks>=50):\n",
    "    print (\"Student passed the subject\")\n",
    "else:\n",
    "    print (\"Student failed the subject\")"
   ]
  },
  {
   "cell_type": "markdown",
   "metadata": {
    "slideshow": {
     "slide_type": "slide"
    }
   },
   "source": [
    "## If-Elif-Else statement"
   ]
  },
  {
   "cell_type": "markdown",
   "metadata": {
    "slideshow": {
     "slide_type": "fragment"
    }
   },
   "source": [
    "The elif statement allows you to check multiple expressions for *TRUE* and execute a block of code as soon as one of the conditions evaluates to *TRUE*.<br>\n",
    "<img src=\"files/if_elif_else.jpg\">\n"
   ]
  },
  {
   "cell_type": "markdown",
   "metadata": {
    "slideshow": {
     "slide_type": "fragment"
    }
   },
   "source": [
    "### Syntax\n",
    "```python\n",
    "if(boolean condition):\n",
    "    if-block\n",
    "# zero or more\n",
    "elif(boolean condition):\n",
    "    elif-block\n",
    "# optional\n",
    "else:\n",
    "    else-block\n",
    "```"
   ]
  },
  {
   "cell_type": "markdown",
   "metadata": {
    "slideshow": {
     "slide_type": "subslide"
    }
   },
   "source": [
    "### Now we want to figure out the grade of the student."
   ]
  },
  {
   "cell_type": "code",
   "execution_count": 7,
   "metadata": {
    "collapsed": false,
    "slideshow": {
     "slide_type": "fragment"
    }
   },
   "outputs": [
    {
     "name": "stdout",
     "output_type": "stream",
     "text": [
      "Enter marks: 88\n",
      "Grade B\n"
     ]
    }
   ],
   "source": [
    "#Grade A:[90,100) marks\n",
    "#Grade B:[75,90) marks\n",
    "#Grade C:[50,75) marks\n",
    "#Grade F:[0,50) marks\n",
    "marks=int(input('Enter marks: '))\n",
    "if(marks>=90):\n",
    "    print (\"Grade A\")\n",
    "elif(marks>=75):\n",
    "    print (\"Grade B\")\n",
    "elif(marks>=50):\n",
    "    print (\"Grade C\")\n",
    "else:  \n",
    "    print (\"Grade F\")"
   ]
  },
  {
   "cell_type": "markdown",
   "metadata": {
    "slideshow": {
     "slide_type": "slide"
    }
   },
   "source": [
    "## Quiz 1\n",
    "### Write a program that will input students theory and practical marks and print out whether they pass in theory and practical.In the end, print out whether the student passed overall."
   ]
  },
  {
   "cell_type": "code",
   "execution_count": null,
   "metadata": {
    "collapsed": false,
    "slideshow": {
     "slide_type": "fragment"
    }
   },
   "outputs": [],
   "source": [
    "# Passing marks:\n",
    "#    1. Theory: 50/100 \n",
    "#    2. Practical: 65/100\n",
    "#    3. Overall: 140/200\n",
    "TheoryMarks=int(input('Enter Theory Marks: '))\n",
    "PracticalMarks=int(input('Enter Practical Marks: '))\n",
    "# TEST CASE:\n",
    "# Input:\n",
    "# TheoryMarks=60\n",
    "# PracticalMarks=80\n",
    "# Output:\n",
    "# Passed in Theory\n",
    "# Passed in Practical\n",
    "# Passed Overall\n",
    "\n",
    "# your code here"
   ]
  },
  {
   "cell_type": "markdown",
   "metadata": {
    "slideshow": {
     "slide_type": "slide"
    }
   },
   "source": [
    "# Loops"
   ]
  },
  {
   "cell_type": "markdown",
   "metadata": {
    "slideshow": {
     "slide_type": "subslide"
    }
   },
   "source": [
    "A loop is a common programming technique that allows us to **repeat** a specific instruction (or set of instructions) any number of times.<br>\n",
    "You have 0 apples. How would you give yourself 4 apples?"
   ]
  },
  {
   "cell_type": "markdown",
   "metadata": {
    "slideshow": {
     "slide_type": "fragment"
    }
   },
   "source": [
    "<img src=\"files/loop.jpg\">"
   ]
  },
  {
   "cell_type": "markdown",
   "metadata": {},
   "source": [
    "### While Loops"
   ]
  },
  {
   "cell_type": "markdown",
   "metadata": {},
   "source": [
    "A while loop is a control flow statement that allows code to be executed repeatedly based on a given boolean condition. The while loop can be thought of as a repeating if statement.The while loop is usually used when we don't the no of iterations to be executed.<img src=\"files/while_loop.jpg\">\n"
   ]
  },
  {
   "cell_type": "markdown",
   "metadata": {},
   "source": [
    "### Syntax\n",
    "```python\n",
    "while (boolean condition):\n",
    "    # conditional code\n",
    "```"
   ]
  },
  {
   "cell_type": "markdown",
   "metadata": {},
   "source": [
    "### What if we want to find result of more than one student?"
   ]
  },
  {
   "cell_type": "code",
   "execution_count": 33,
   "metadata": {
    "collapsed": false
   },
   "outputs": [
    {
     "name": "stdout",
     "output_type": "stream",
     "text": [
      "Enter marks: 1\n",
      "Student failed the subject\n",
      "Press 1 to find result of student: 1\n",
      "Enter marks: 93\n",
      "Student passed the subject\n",
      "Press 1 to find result of student: 1\n",
      "Enter marks: 35\n",
      "Student failed the subject\n",
      "Press 1 to find result of student: 0\n"
     ]
    }
   ],
   "source": [
    "Choice=1\n",
    "while(Choice == 1):\n",
    "    marks=int(input('Enter marks: '))\n",
    "    if(marks>=50):\n",
    "        print (\"Student passed the subject\")\n",
    "    else:\n",
    "        print (\"Student failed the subject\")\n",
    "    Choice=int(input('Press 1 to find result of student: '))"
   ]
  },
  {
   "cell_type": "markdown",
   "metadata": {},
   "source": [
    "## Iterables"
   ]
  },
  {
   "cell_type": "markdown",
   "metadata": {},
   "source": [
    "Before moving onto For loops, we’ll need to understand what an Iterable is.In Python, iterables are objects which can be treated as sequences, such as lists, arrays and range objects.In this module we will be focusing only on range object.**Range() generate Arithmetic Progressions**.<br>\n",
    "<img src=\"files/iterables.jpg\">"
   ]
  },
  {
   "cell_type": "markdown",
   "metadata": {},
   "source": [
    "## For Loops"
   ]
  },
  {
   "cell_type": "markdown",
   "metadata": {},
   "source": [
    "The for statement in Python differs a bit from what you may be used to in C.In C we use for loop to iterate over only arithmetic progression.Python’s for statement iterates over the items of any sequence (a list or a string), in the order that they appear in the sequence.<br>\n",
    "<img src=\"files/for_loop_exp.jpg\">"
   ]
  },
  {
   "cell_type": "markdown",
   "metadata": {},
   "source": [
    "### Syntax\n",
    "```python\n",
    "for i in iterable:\n",
    "    # code\n",
    "```"
   ]
  },
  {
   "cell_type": "code",
   "execution_count": 41,
   "metadata": {
    "collapsed": false
   },
   "outputs": [
    {
     "name": "stdout",
     "output_type": "stream",
     "text": [
      "0\n",
      "59\n",
      "2\n",
      "47\n",
      "1\n",
      "47\n",
      "89\n",
      "656\n",
      "23\n",
      "12\n"
     ]
    }
   ],
   "source": [
    "# Example\n",
    "nums = [0,59,2,47,1,47,89,656,23,12]\n",
    "for num in nums:\n",
    "    print(num)"
   ]
  },
  {
   "cell_type": "markdown",
   "metadata": {},
   "source": [
    "## Quiz 2\n",
    "### Write a program to find result of 5 students."
   ]
  },
  {
   "cell_type": "code",
   "execution_count": 43,
   "metadata": {
    "collapsed": true
   },
   "outputs": [],
   "source": [
    "# Passing marks:50\n",
    "\n",
    "# your code here"
   ]
  },
  {
   "cell_type": "markdown",
   "metadata": {},
   "source": [
    "## Break and Continue Statements,and Else clause on Loops"
   ]
  },
  {
   "cell_type": "markdown",
   "metadata": {},
   "source": [
    "The break statement, like in C, breaks out of the smallest enclosing for or while loop.\n",
    "\n",
    "Loop statements may have an else clause; it is executed when the loop terminates through exhaustion of the list (with for) or when the condition becomes false (with while), but not when the loop is terminated by a break statement. This is exemplified by the following loop, which searches for prime numbers:"
   ]
  },
  {
   "cell_type": "code",
   "execution_count": 35,
   "metadata": {
    "collapsed": false
   },
   "outputs": [
    {
     "name": "stdout",
     "output_type": "stream",
     "text": [
      "2 is a prime number\n",
      "3 is a prime number\n",
      "4 equals 2 * 2\n",
      "5 is a prime number\n",
      "6 equals 2 * 3\n",
      "7 is a prime number\n",
      "8 equals 2 * 4\n",
      "9 equals 3 * 3\n"
     ]
    }
   ],
   "source": [
    "for n in range(2, 10):\n",
    "     for x in range(2, n):\n",
    "         if n % x == 0:\n",
    "             print(n, 'equals', x, '*', n//x)\n",
    "             break\n",
    "     else:\n",
    "         # loop fell through without finding a factor\n",
    "         print(n, 'is a prime number')"
   ]
  },
  {
   "cell_type": "markdown",
   "metadata": {},
   "source": [
    "The continue statement, also borrowed from C, continues with the next iteration of the loop.Following program finds even numbers:\n"
   ]
  },
  {
   "cell_type": "code",
   "execution_count": 37,
   "metadata": {
    "collapsed": false
   },
   "outputs": [
    {
     "name": "stdout",
     "output_type": "stream",
     "text": [
      "Found an even number 2\n",
      "Found a number 3\n",
      "Found an even number 4\n",
      "Found a number 5\n",
      "Found an even number 6\n",
      "Found a number 7\n",
      "Found an even number 8\n",
      "Found a number 9\n"
     ]
    }
   ],
   "source": [
    "for num in range(2, 10):\n",
    "     if num % 2 == 0:\n",
    "         print(\"Found an even number\", num)\n",
    "         continue\n",
    "     print(\"Found a number\", num)"
   ]
  },
  {
   "cell_type": "markdown",
   "metadata": {},
   "source": [
    "## Pass Statement\n",
    "Pass Statement do nothing.They are used when a statement is required syntactically.The pass statement is also useful in places where your code will go eventually, but has not been written yet."
   ]
  },
  {
   "cell_type": "code",
   "execution_count": 46,
   "metadata": {
    "collapsed": false
   },
   "outputs": [
    {
     "name": "stdout",
     "output_type": "stream",
     "text": [
      "Current Letter : P\n",
      "Current Letter : y\n",
      "Current Letter : t\n",
      "This is pass block\n",
      "Current Letter : h\n",
      "Current Letter : o\n",
      "Current Letter : n\n",
      "Good bye!\n"
     ]
    }
   ],
   "source": [
    "# Example\n",
    "for letter in 'Python': \n",
    "   if letter == 'h':\n",
    "      pass\n",
    "      print ('This is pass block')\n",
    "   print ('Current Letter :', letter)\n",
    "\n",
    "print (\"Good bye!\")"
   ]
  }
 ],
 "metadata": {
  "celltoolbar": "Slideshow",
  "kernelspec": {
   "display_name": "Python 3",
   "language": "python",
   "name": "python3"
  },
  "language_info": {
   "codemirror_mode": {
    "name": "ipython",
    "version": 3
   },
   "file_extension": ".py",
   "mimetype": "text/x-python",
   "name": "python",
   "nbconvert_exporter": "python",
   "pygments_lexer": "ipython3",
   "version": "3.4.3"
  }
 },
 "nbformat": 4,
 "nbformat_minor": 0
}
